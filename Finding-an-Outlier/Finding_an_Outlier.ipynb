{
  "nbformat": 4,
  "nbformat_minor": 0,
  "metadata": {
    "colab": {
      "name": "Finding an Outlier.ipynb",
      "provenance": [],
      "authorship_tag": "ABX9TyOQl6AeL4sTu2b/vkyzxuVG",
      "include_colab_link": true
    },
    "kernelspec": {
      "name": "python3",
      "display_name": "Python 3"
    },
    "language_info": {
      "name": "python"
    }
  },
  "cells": [
    {
      "cell_type": "markdown",
      "metadata": {
        "id": "view-in-github",
        "colab_type": "text"
      },
      "source": [
        "<a href=\"https://colab.research.google.com/github/Ayush7614/Soomvaar/blob/main/Finding-an-Outlier/Finding_an_Outlier.ipynb\" target=\"_parent\"><img src=\"https://colab.research.google.com/assets/colab-badge.svg\" alt=\"Open In Colab\"/></a>"
      ]
    },
    {
      "cell_type": "markdown",
      "metadata": {
        "id": "YPahbqurRe9z"
      },
      "source": [
        "# Finding an outlier\n",
        "\n",
        "# Interquartile range\n"
      ]
    },
    {
      "cell_type": "markdown",
      "metadata": {
        "id": "qzfOSLNORuRD"
      },
      "source": [
        "For any given list of values, follow these steps\n",
        "\n",
        "Sort the values in ascending order\n",
        "\n",
        "Find the first and the third quartile\n",
        "\n",
        "The first quartile is the 25%\n",
        "\n",
        "The second quartile is the 75%\n",
        "\n",
        "Find the interquartile range, that is, the difference between the first \n",
        "quartile and the third quartile\n",
        "\n",
        "Now multiply the interquartile range with 1.5\n",
        "\n",
        "Add the multiplied value to the second quartile to find the upper bound, subtract the multiplied value to the first quartile to find the lower bound\n",
        "\n",
        "Any value lower than the lower bound and any value higher than the upper bound are OUTLIERS\n"
      ]
    },
    {
      "cell_type": "code",
      "metadata": {
        "id": "b_sCNjumR4CX"
      },
      "source": [
        "dataset = [i for i in range(1, 51)]"
      ],
      "execution_count": 63,
      "outputs": []
    },
    {
      "cell_type": "code",
      "metadata": {
        "id": "lH9_A3VbR-Sh"
      },
      "source": [
        "dataset.append(-1200)\n",
        "dataset.append(5177)"
      ],
      "execution_count": 64,
      "outputs": []
    },
    {
      "cell_type": "code",
      "metadata": {
        "colab": {
          "base_uri": "https://localhost:8080/"
        },
        "id": "nkBK3pTaSDc5",
        "outputId": "d65d4b43-fd82-40c9-a653-4a1dc9deefe3"
      },
      "source": [
        "dataset"
      ],
      "execution_count": 65,
      "outputs": [
        {
          "output_type": "execute_result",
          "data": {
            "text/plain": [
              "[1,\n",
              " 2,\n",
              " 3,\n",
              " 4,\n",
              " 5,\n",
              " 6,\n",
              " 7,\n",
              " 8,\n",
              " 9,\n",
              " 10,\n",
              " 11,\n",
              " 12,\n",
              " 13,\n",
              " 14,\n",
              " 15,\n",
              " 16,\n",
              " 17,\n",
              " 18,\n",
              " 19,\n",
              " 20,\n",
              " 21,\n",
              " 22,\n",
              " 23,\n",
              " 24,\n",
              " 25,\n",
              " 26,\n",
              " 27,\n",
              " 28,\n",
              " 29,\n",
              " 30,\n",
              " 31,\n",
              " 32,\n",
              " 33,\n",
              " 34,\n",
              " 35,\n",
              " 36,\n",
              " 37,\n",
              " 38,\n",
              " 39,\n",
              " 40,\n",
              " 41,\n",
              " 42,\n",
              " 43,\n",
              " 44,\n",
              " 45,\n",
              " 46,\n",
              " 47,\n",
              " 48,\n",
              " 49,\n",
              " 50,\n",
              " -1200,\n",
              " 5177]"
            ]
          },
          "metadata": {
            "tags": []
          },
          "execution_count": 65
        }
      ]
    },
    {
      "cell_type": "code",
      "metadata": {
        "id": "5iMFa53sSNbc"
      },
      "source": [
        "dataset = sorted(dataset)"
      ],
      "execution_count": 66,
      "outputs": []
    },
    {
      "cell_type": "code",
      "metadata": {
        "id": "HqLjSJ5ASP-Y"
      },
      "source": [
        "import numpy as np\n",
        "quartile1, quartile2 = np.percentile(dataset, [25, 75])"
      ],
      "execution_count": 67,
      "outputs": []
    },
    {
      "cell_type": "code",
      "metadata": {
        "colab": {
          "base_uri": "https://localhost:8080/"
        },
        "id": "NstpIFbsSVSd",
        "outputId": "eae912fb-2faa-4d96-eb79-656afc88e26f"
      },
      "source": [
        "print(quartile1, quartile2)"
      ],
      "execution_count": 68,
      "outputs": [
        {
          "output_type": "stream",
          "text": [
            "12.75 38.25\n"
          ],
          "name": "stdout"
        }
      ]
    },
    {
      "cell_type": "code",
      "metadata": {
        "id": "_CY7ro07SZp1"
      },
      "source": [
        "iqr_value = quartile2 - quartile1"
      ],
      "execution_count": 69,
      "outputs": []
    },
    {
      "cell_type": "code",
      "metadata": {
        "colab": {
          "base_uri": "https://localhost:8080/"
        },
        "id": "bJq4vdX6SfSB",
        "outputId": "68f9ae2c-2c1a-40b3-cc15-9a7feb5f9946"
      },
      "source": [
        "iqr_value"
      ],
      "execution_count": 70,
      "outputs": [
        {
          "output_type": "execute_result",
          "data": {
            "text/plain": [
              "25.5"
            ]
          },
          "metadata": {
            "tags": []
          },
          "execution_count": 70
        }
      ]
    },
    {
      "cell_type": "code",
      "metadata": {
        "id": "eS17ePdKSjDT"
      },
      "source": [
        ""
      ],
      "execution_count": 70,
      "outputs": []
    },
    {
      "cell_type": "code",
      "metadata": {
        "id": "fK4mu-zMSjOp"
      },
      "source": [
        "upper_bound = quartile2 + (iqr_value * 1.5)\n",
        "lower_bound = quartile1 - (iqr_value * 1.5)"
      ],
      "execution_count": 71,
      "outputs": []
    },
    {
      "cell_type": "code",
      "metadata": {
        "colab": {
          "base_uri": "https://localhost:8080/"
        },
        "id": "9m01PXbcSobx",
        "outputId": "dd6cb5d1-5c66-42e5-822a-db7afda671ce"
      },
      "source": [
        "print(upper_bound, lower_bound)"
      ],
      "execution_count": 72,
      "outputs": [
        {
          "output_type": "stream",
          "text": [
            "76.5 -25.5\n"
          ],
          "name": "stdout"
        }
      ]
    },
    {
      "cell_type": "code",
      "metadata": {
        "id": "LdfQHuoJSsIQ"
      },
      "source": [
        "outliers = [i for i in dataset if i > 76.5 or i < -25.5]"
      ],
      "execution_count": 73,
      "outputs": []
    },
    {
      "cell_type": "code",
      "metadata": {
        "colab": {
          "base_uri": "https://localhost:8080/"
        },
        "id": "3mBqKWGUSv4d",
        "outputId": "e714e4e2-b1c5-4d88-ecdf-fc183c90b26d"
      },
      "source": [
        "outliers"
      ],
      "execution_count": 74,
      "outputs": [
        {
          "output_type": "execute_result",
          "data": {
            "text/plain": [
              "[-1200, 5177]"
            ]
          },
          "metadata": {
            "tags": []
          },
          "execution_count": 74
        }
      ]
    }
  ]
}