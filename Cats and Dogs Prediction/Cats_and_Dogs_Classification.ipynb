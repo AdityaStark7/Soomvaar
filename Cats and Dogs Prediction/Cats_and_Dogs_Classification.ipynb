{
  "nbformat": 4,
  "nbformat_minor": 0,
  "metadata": {
    "colab": {
      "name": "Cats and Dogs Classification.ipynb",
      "provenance": [],
      "authorship_tag": "ABX9TyOI2VoZgntXj2aZx/L93P0w",
      "include_colab_link": true
    },
    "kernelspec": {
      "name": "python3",
      "display_name": "Python 3"
    },
    "language_info": {
      "name": "python"
    }
  },
  "cells": [
    {
      "cell_type": "markdown",
      "metadata": {
        "id": "view-in-github",
        "colab_type": "text"
      },
      "source": [
        "<a href=\"https://colab.research.google.com/github/Ayush7614/Soomvaar/blob/main/Cats%20and%20Dogs%20Prediction/Cats_and_Dogs_Classification.ipynb\" target=\"_parent\"><img src=\"https://colab.research.google.com/assets/colab-badge.svg\" alt=\"Open In Colab\"/></a>"
      ]
    },
    {
      "cell_type": "code",
      "metadata": {
        "colab": {
          "base_uri": "https://localhost:8080/"
        },
        "id": "Z5n9PFYtReOS",
        "outputId": "0a45eeea-5e54-4a5f-d90a-8fb039db37a4"
      },
      "source": [
        "!wget --no-check-certificate \\\n",
        "  https://storage.googleapis.com/mledu-datasets/cats_and_dogs_filtered.zip \\\n",
        "  -O /tmp/cats_and_dogs_filtered.zip"
      ],
      "execution_count": 22,
      "outputs": [
        {
          "output_type": "stream",
          "text": [
            "--2021-05-22 05:02:20--  https://storage.googleapis.com/mledu-datasets/cats_and_dogs_filtered.zip\n",
            "Resolving storage.googleapis.com (storage.googleapis.com)... 64.233.189.128, 108.177.97.128, 108.177.125.128, ...\n",
            "Connecting to storage.googleapis.com (storage.googleapis.com)|64.233.189.128|:443... connected.\n",
            "HTTP request sent, awaiting response... 200 OK\n",
            "Length: 68606236 (65M) [application/zip]\n",
            "Saving to: ‘/tmp/cats_and_dogs_filtered.zip’\n",
            "\n",
            "/tmp/cats_and_dogs_ 100%[===================>]  65.43M   203MB/s    in 0.3s    \n",
            "\n",
            "2021-05-22 05:02:21 (203 MB/s) - ‘/tmp/cats_and_dogs_filtered.zip’ saved [68606236/68606236]\n",
            "\n"
          ],
          "name": "stdout"
        }
      ]
    },
    {
      "cell_type": "code",
      "metadata": {
        "colab": {
          "base_uri": "https://localhost:8080/"
        },
        "id": "hhqtfTqYWBaG",
        "outputId": "bf1cc5c8-80c2-4a47-d4b8-faec7717a2e9"
      },
      "source": [
        "import os\n",
        "import zipfile\n",
        "\n",
        "local_zip='/tmp/cats_and_dogs_filtered.zip'\n",
        "zip_ref=zipfile.ZipFile(local_zip,'r')\n",
        "zip_ref.extractall('/tmp')\n",
        "zip_ref.close()\n",
        "os.listdir('/tmp')"
      ],
      "execution_count": 23,
      "outputs": [
        {
          "output_type": "execute_result",
          "data": {
            "text/plain": [
              "['dap_multiplexer.7b569aea819d.root.log.INFO.20210522-042639.48',\n",
              " 'cats_and_dogs_filtered.zip',\n",
              " 'cats_and_dogs_filtered',\n",
              " 'debugger_1mnvndb4cw',\n",
              " 'dap_multiplexer.INFO',\n",
              " 'initgoogle_syslog_dir.0']"
            ]
          },
          "metadata": {
            "tags": []
          },
          "execution_count": 23
        }
      ]
    },
    {
      "cell_type": "code",
      "metadata": {
        "id": "sX34iu85XVGp"
      },
      "source": [
        "base_dir='/tmp/cats_and_dogs_filtered'\n",
        "\n",
        "#training and validation directory\n",
        "train_dir=os.path.join(base_dir,'train')\n",
        "validation_dir=os.path.join(base_dir,'validation')\n",
        "\n",
        "#training directory\n",
        "train_cats_dir=os.path.join(train_dir,'cats')\n",
        "train_dogs_dir=os.path.join(train_dir,'dogs')\n",
        "\n",
        "#validation directory\n",
        "validation_cats_dir = os.path.join(validation_dir, 'cats')\n",
        "validation_dogs_dir = os.path.join(validation_dir, 'dogs')"
      ],
      "execution_count": 24,
      "outputs": []
    },
    {
      "cell_type": "code",
      "metadata": {
        "colab": {
          "base_uri": "https://localhost:8080/"
        },
        "id": "U8wEpkXMcIjG",
        "outputId": "b74d0946-bfbd-48bc-e954-0a0dac58f865"
      },
      "source": [
        "train_cat_fnames=os.listdir(train_cats_dir)\n",
        "train_dog_fnames=os.listdir(train_dogs_dir)\n",
        "\n",
        "print(train_cat_fnames[:10])\n",
        "print(train_dog_fnames[:10])\n",
        "\n",
        "\n",
        "print('Total training cat images.   ',len(os.listdir(train_cats_dir)))\n",
        "print('Total training dog images.   ',len(os.listdir(train_dogs_dir)))\n",
        "\n",
        "print('Total Validation cat images.   ',len(os.listdir(validation_cats_dir)))\n",
        "print('Total Validation dog images.   ',len(os.listdir(validation_dogs_dir)))"
      ],
      "execution_count": 25,
      "outputs": [
        {
          "output_type": "stream",
          "text": [
            "['cat.286.jpg', 'cat.883.jpg', 'cat.290.jpg', 'cat.500.jpg', 'cat.430.jpg', 'cat.360.jpg', 'cat.698.jpg', 'cat.871.jpg', 'cat.85.jpg', 'cat.186.jpg']\n",
            "['dog.131.jpg', 'dog.845.jpg', 'dog.274.jpg', 'dog.284.jpg', 'dog.247.jpg', 'dog.17.jpg', 'dog.514.jpg', 'dog.411.jpg', 'dog.399.jpg', 'dog.468.jpg']\n",
            "Total training cat images.    1000\n",
            "Total training dog images.    1000\n",
            "Total Validation cat images.    500\n",
            "Total Validation dog images.    500\n"
          ],
          "name": "stdout"
        }
      ]
    },
    {
      "cell_type": "code",
      "metadata": {
        "id": "1gMzR5EhcuD8"
      },
      "source": [
        "import tensorflow as tf\n",
        "model = tf.keras.models.Sequential([\n",
        "    # Note the input shape is the desired size of the image 150x150 with 3 bytes color\n",
        "    tf.keras.layers.Conv2D(16, (3,3), activation='relu', input_shape=(150, 150, 3)),\n",
        "    tf.keras.layers.MaxPooling2D(2,2),\n",
        "    tf.keras.layers.Conv2D(32, (3,3), activation='relu'),\n",
        "    tf.keras.layers.MaxPooling2D(2,2), \n",
        "    tf.keras.layers.Conv2D(64, (3,3), activation='relu'), \n",
        "    tf.keras.layers.MaxPooling2D(2,2),\n",
        "    # Flatten the results to feed into a DNN\n",
        "    tf.keras.layers.Flatten(), \n",
        "    # 512 neuron hidden layer\n",
        "    tf.keras.layers.Dense(512, activation='relu'), \n",
        "    # Only 1 output neuron. It will contain a value from 0-1 where 0 for 1 class ('cats') and 1 for the other ('dogs')\n",
        "    tf.keras.layers.Dense(1, activation='sigmoid')  \n",
        "])"
      ],
      "execution_count": 26,
      "outputs": []
    },
    {
      "cell_type": "code",
      "metadata": {
        "colab": {
          "base_uri": "https://localhost:8080/"
        },
        "id": "jqkoHjgHc6lz",
        "outputId": "ca6f154e-8cc8-4869-e55c-2184a5e99be1"
      },
      "source": [
        "model.summary()"
      ],
      "execution_count": 27,
      "outputs": [
        {
          "output_type": "stream",
          "text": [
            "Model: \"sequential_1\"\n",
            "_________________________________________________________________\n",
            "Layer (type)                 Output Shape              Param #   \n",
            "=================================================================\n",
            "conv2d_3 (Conv2D)            (None, 148, 148, 16)      448       \n",
            "_________________________________________________________________\n",
            "max_pooling2d_3 (MaxPooling2 (None, 74, 74, 16)        0         \n",
            "_________________________________________________________________\n",
            "conv2d_4 (Conv2D)            (None, 72, 72, 32)        4640      \n",
            "_________________________________________________________________\n",
            "max_pooling2d_4 (MaxPooling2 (None, 36, 36, 32)        0         \n",
            "_________________________________________________________________\n",
            "conv2d_5 (Conv2D)            (None, 34, 34, 64)        18496     \n",
            "_________________________________________________________________\n",
            "max_pooling2d_5 (MaxPooling2 (None, 17, 17, 64)        0         \n",
            "_________________________________________________________________\n",
            "flatten_1 (Flatten)          (None, 18496)             0         \n",
            "_________________________________________________________________\n",
            "dense_2 (Dense)              (None, 512)               9470464   \n",
            "_________________________________________________________________\n",
            "dense_3 (Dense)              (None, 1)                 513       \n",
            "=================================================================\n",
            "Total params: 9,494,561\n",
            "Trainable params: 9,494,561\n",
            "Non-trainable params: 0\n",
            "_________________________________________________________________\n"
          ],
          "name": "stdout"
        }
      ]
    },
    {
      "cell_type": "code",
      "metadata": {
        "id": "iIuGLRwSefxc"
      },
      "source": [
        "from tensorflow.keras.optimizers import RMSprop\n",
        "\n",
        "model.compile(optimizer=RMSprop(lr=0.001),\n",
        "              loss='binary_crossentropy',\n",
        "              metrics = ['acc'])"
      ],
      "execution_count": 28,
      "outputs": []
    },
    {
      "cell_type": "code",
      "metadata": {
        "colab": {
          "base_uri": "https://localhost:8080/"
        },
        "id": "4BTwj9mJejfx",
        "outputId": "f4340eb4-0c9f-45a0-ade3-54961dee0ba4"
      },
      "source": [
        "from tensorflow.keras.preprocessing.image import ImageDataGenerator\n",
        "\n",
        "# All images will be rescaled here\n",
        "train_datagen = ImageDataGenerator( rescale = 1.0/255. )\n",
        "test_datagen  = ImageDataGenerator( rescale = 1.0/255. )\n",
        "\n",
        "train_generator = train_datagen.flow_from_directory(train_dir,\n",
        "                                                    batch_size=20,\n",
        "                                                    class_mode='binary',\n",
        "                                                    target_size=(150, 150))     \n",
        "\n",
        "validation_generator =  test_datagen.flow_from_directory(validation_dir,\n",
        "                                                         batch_size=20,\n",
        "                                                         class_mode  = 'binary',\n",
        "                                                         target_size = (150, 150))"
      ],
      "execution_count": 29,
      "outputs": [
        {
          "output_type": "stream",
          "text": [
            "Found 2000 images belonging to 2 classes.\n",
            "Found 1000 images belonging to 2 classes.\n"
          ],
          "name": "stdout"
        }
      ]
    },
    {
      "cell_type": "code",
      "metadata": {
        "colab": {
          "base_uri": "https://localhost:8080/"
        },
        "id": "MJO_Odrter3_",
        "outputId": "1c0a9f7f-bad9-4e3b-a25f-61d13c342042"
      },
      "source": [
        "history = model.fit_generator(train_generator,\n",
        "                              validation_data=validation_generator,\n",
        "                              steps_per_epoch=10,\n",
        "                              epochs=50,\n",
        "                              validation_steps=50,\n",
        "                              verbose=2)\n"
      ],
      "execution_count": 30,
      "outputs": [
        {
          "output_type": "stream",
          "text": [
            "/usr/local/lib/python3.7/dist-packages/tensorflow/python/keras/engine/training.py:1844: UserWarning: `Model.fit_generator` is deprecated and will be removed in a future version. Please use `Model.fit`, which supports generators.\n",
            "  warnings.warn('`Model.fit_generator` is deprecated and '\n"
          ],
          "name": "stderr"
        },
        {
          "output_type": "stream",
          "text": [
            "Epoch 1/50\n",
            "10/10 - 14s - loss: 2.0543 - acc: 0.5250 - val_loss: 0.6909 - val_acc: 0.5130\n",
            "Epoch 2/50\n",
            "10/10 - 13s - loss: 0.7014 - acc: 0.5450 - val_loss: 0.6900 - val_acc: 0.5100\n",
            "Epoch 3/50\n",
            "10/10 - 13s - loss: 0.6815 - acc: 0.5550 - val_loss: 0.6894 - val_acc: 0.5040\n",
            "Epoch 4/50\n",
            "10/10 - 12s - loss: 0.6840 - acc: 0.5800 - val_loss: 0.6781 - val_acc: 0.6190\n",
            "Epoch 5/50\n",
            "10/10 - 12s - loss: 0.6646 - acc: 0.5950 - val_loss: 0.7443 - val_acc: 0.5140\n",
            "Epoch 6/50\n",
            "10/10 - 12s - loss: 0.6636 - acc: 0.6300 - val_loss: 0.6720 - val_acc: 0.6110\n",
            "Epoch 7/50\n",
            "10/10 - 12s - loss: 0.6801 - acc: 0.6550 - val_loss: 0.6669 - val_acc: 0.5970\n",
            "Epoch 8/50\n",
            "10/10 - 12s - loss: 0.6657 - acc: 0.6400 - val_loss: 0.6578 - val_acc: 0.6200\n",
            "Epoch 9/50\n",
            "10/10 - 12s - loss: 0.6254 - acc: 0.6750 - val_loss: 0.9605 - val_acc: 0.5070\n",
            "Epoch 10/50\n",
            "10/10 - 12s - loss: 0.6913 - acc: 0.6050 - val_loss: 0.6467 - val_acc: 0.6370\n",
            "Epoch 11/50\n",
            "10/10 - 12s - loss: 0.6137 - acc: 0.6500 - val_loss: 0.6917 - val_acc: 0.5760\n",
            "Epoch 12/50\n",
            "10/10 - 12s - loss: 0.6325 - acc: 0.5950 - val_loss: 0.6530 - val_acc: 0.6200\n",
            "Epoch 13/50\n",
            "10/10 - 12s - loss: 0.5893 - acc: 0.6800 - val_loss: 1.1681 - val_acc: 0.5030\n",
            "Epoch 14/50\n",
            "10/10 - 12s - loss: 0.6775 - acc: 0.6500 - val_loss: 0.6569 - val_acc: 0.6390\n",
            "Epoch 15/50\n",
            "10/10 - 12s - loss: 0.7158 - acc: 0.6100 - val_loss: 0.6594 - val_acc: 0.6130\n",
            "Epoch 16/50\n",
            "10/10 - 12s - loss: 0.6135 - acc: 0.6750 - val_loss: 0.6504 - val_acc: 0.6440\n",
            "Epoch 17/50\n",
            "10/10 - 12s - loss: 0.5794 - acc: 0.7250 - val_loss: 0.6310 - val_acc: 0.6630\n",
            "Epoch 18/50\n",
            "10/10 - 12s - loss: 0.5061 - acc: 0.7550 - val_loss: 0.7882 - val_acc: 0.6090\n",
            "Epoch 19/50\n",
            "10/10 - 12s - loss: 0.5854 - acc: 0.6800 - val_loss: 0.6304 - val_acc: 0.6660\n",
            "Epoch 20/50\n",
            "10/10 - 12s - loss: 0.5303 - acc: 0.7350 - val_loss: 0.6631 - val_acc: 0.6430\n",
            "Epoch 21/50\n",
            "10/10 - 12s - loss: 0.5295 - acc: 0.7650 - val_loss: 0.6721 - val_acc: 0.6650\n",
            "Epoch 22/50\n",
            "10/10 - 12s - loss: 0.5645 - acc: 0.7350 - val_loss: 0.7626 - val_acc: 0.5990\n",
            "Epoch 23/50\n",
            "10/10 - 12s - loss: 0.5431 - acc: 0.7050 - val_loss: 0.6692 - val_acc: 0.6430\n",
            "Epoch 24/50\n",
            "10/10 - 12s - loss: 0.5227 - acc: 0.7600 - val_loss: 1.0258 - val_acc: 0.5670\n",
            "Epoch 25/50\n",
            "10/10 - 12s - loss: 0.6138 - acc: 0.7100 - val_loss: 0.6069 - val_acc: 0.6970\n",
            "Epoch 26/50\n",
            "10/10 - 12s - loss: 0.5454 - acc: 0.7200 - val_loss: 0.6164 - val_acc: 0.6970\n",
            "Epoch 27/50\n",
            "10/10 - 12s - loss: 0.4496 - acc: 0.8100 - val_loss: 0.6718 - val_acc: 0.7050\n",
            "Epoch 28/50\n",
            "10/10 - 12s - loss: 0.5138 - acc: 0.8150 - val_loss: 0.6251 - val_acc: 0.6870\n",
            "Epoch 29/50\n",
            "10/10 - 12s - loss: 0.4570 - acc: 0.7800 - val_loss: 0.6314 - val_acc: 0.6550\n",
            "Epoch 30/50\n",
            "10/10 - 12s - loss: 0.4947 - acc: 0.7850 - val_loss: 0.6563 - val_acc: 0.6790\n",
            "Epoch 31/50\n",
            "10/10 - 12s - loss: 0.4323 - acc: 0.7800 - val_loss: 0.6591 - val_acc: 0.6950\n",
            "Epoch 32/50\n",
            "10/10 - 12s - loss: 0.4900 - acc: 0.7850 - val_loss: 0.6119 - val_acc: 0.7060\n",
            "Epoch 33/50\n",
            "10/10 - 12s - loss: 0.5016 - acc: 0.7700 - val_loss: 0.5969 - val_acc: 0.7050\n",
            "Epoch 34/50\n",
            "10/10 - 12s - loss: 0.4351 - acc: 0.7850 - val_loss: 0.6478 - val_acc: 0.6910\n",
            "Epoch 35/50\n",
            "10/10 - 12s - loss: 0.4135 - acc: 0.7850 - val_loss: 0.6665 - val_acc: 0.6710\n",
            "Epoch 36/50\n",
            "10/10 - 12s - loss: 0.4474 - acc: 0.7450 - val_loss: 0.6072 - val_acc: 0.7100\n",
            "Epoch 37/50\n",
            "10/10 - 12s - loss: 0.4686 - acc: 0.7750 - val_loss: 0.6544 - val_acc: 0.6820\n",
            "Epoch 38/50\n",
            "10/10 - 12s - loss: 0.2972 - acc: 0.9100 - val_loss: 0.7077 - val_acc: 0.7160\n",
            "Epoch 39/50\n",
            "10/10 - 12s - loss: 0.3082 - acc: 0.8600 - val_loss: 0.7507 - val_acc: 0.6910\n",
            "Epoch 40/50\n",
            "10/10 - 12s - loss: 0.2784 - acc: 0.8900 - val_loss: 0.9151 - val_acc: 0.6550\n",
            "Epoch 41/50\n",
            "10/10 - 12s - loss: 0.4423 - acc: 0.8100 - val_loss: 0.6172 - val_acc: 0.7050\n",
            "Epoch 42/50\n",
            "10/10 - 12s - loss: 0.3693 - acc: 0.8400 - val_loss: 0.6673 - val_acc: 0.7060\n",
            "Epoch 43/50\n",
            "10/10 - 12s - loss: 0.6108 - acc: 0.7650 - val_loss: 0.6218 - val_acc: 0.7090\n",
            "Epoch 44/50\n",
            "10/10 - 12s - loss: 0.3749 - acc: 0.8150 - val_loss: 0.5824 - val_acc: 0.7160\n",
            "Epoch 45/50\n",
            "10/10 - 12s - loss: 0.3647 - acc: 0.8600 - val_loss: 0.6580 - val_acc: 0.7100\n",
            "Epoch 46/50\n",
            "10/10 - 12s - loss: 0.3348 - acc: 0.8800 - val_loss: 0.7118 - val_acc: 0.6930\n",
            "Epoch 47/50\n",
            "10/10 - 12s - loss: 0.2879 - acc: 0.8750 - val_loss: 0.8095 - val_acc: 0.6610\n",
            "Epoch 48/50\n",
            "10/10 - 12s - loss: 0.3212 - acc: 0.8700 - val_loss: 0.7594 - val_acc: 0.6840\n",
            "Epoch 49/50\n",
            "10/10 - 12s - loss: 0.2637 - acc: 0.8850 - val_loss: 0.7316 - val_acc: 0.6920\n",
            "Epoch 50/50\n",
            "10/10 - 12s - loss: 0.3403 - acc: 0.8450 - val_loss: 0.6515 - val_acc: 0.7000\n"
          ],
          "name": "stdout"
        }
      ]
    },
    {
      "cell_type": "code",
      "metadata": {
        "colab": {
          "base_uri": "https://localhost:8080/",
          "height": 562
        },
        "id": "p9228aZOfDnm",
        "outputId": "38f12ea9-a9a3-44b3-cef0-ce40fea7a32b"
      },
      "source": [
        "#-----------------------------------------------------------\n",
        "# Retrieve a list of list results on training and test data\n",
        "# sets for each training epoch\n",
        "#-----------------------------------------------------------\n",
        "acc      = history.history[     'acc' ]\n",
        "val_acc  = history.history[ 'val_acc' ]\n",
        "loss     = history.history[    'loss' ]\n",
        "val_loss = history.history['val_loss' ]\n",
        "\n",
        "epochs   = range(len(acc)) # Get number of epochs\n",
        "\n",
        "import matplotlib.pyplot as plt\n",
        "# Plot training and validation accuracy per epoch\n",
        "plt.plot  ( epochs,     acc )\n",
        "plt.plot  ( epochs, val_acc )\n",
        "plt.title ('Training and validation accuracy')\n",
        "plt.figure()\n",
        "\n",
        "# Plot training and validation loss per epoch\n",
        "plt.plot  ( epochs,     loss )\n",
        "plt.plot  ( epochs, val_loss )\n",
        "plt.title ('Training and validation loss'   )\n"
      ],
      "execution_count": 31,
      "outputs": [
        {
          "output_type": "execute_result",
          "data": {
            "text/plain": [
              "Text(0.5, 1.0, 'Training and validation loss')"
            ]
          },
          "metadata": {
            "tags": []
          },
          "execution_count": 31
        },
        {
          "output_type": "display_data",
          "data": {
            "image/png": "[encoded data removed]",
            "text/plain": [
              "<Figure size 432x288 with 1 Axes>"
            ]
          },
          "metadata": {
            "tags": [],
            "needs_background": "light"
          }
        },
        {
          "output_type": "display_data",
          "data": {
            "image/png": "[encoded data removed]",
            "text/plain": [
              "<Figure size 432x288 with 1 Axes>"
            ]
          },
          "metadata": {
            "tags": [],
            "needs_background": "light"
          }
        }
      ]
    }
  ]
}