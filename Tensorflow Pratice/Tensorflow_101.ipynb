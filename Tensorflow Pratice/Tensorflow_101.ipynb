{
  "nbformat": 4,
  "nbformat_minor": 0,
  "metadata": {
    "colab": {
      "name": "Tensorflow_101.ipynb",
      "provenance": [],
      "collapsed_sections": [],
      "authorship_tag": "ABX9TyOOLWt/GFHO5eLtbyJCDUh0",
      "include_colab_link": true
    },
    "kernelspec": {
      "name": "python3",
      "display_name": "Python 3"
    },
    "language_info": {
      "name": "python"
    }
  },
  "cells": [
    {
      "cell_type": "markdown",
      "metadata": {
        "id": "view-in-github",
        "colab_type": "text"
      },
      "source": [
        "<a href=\"https://colab.research.google.com/github/Ayush7614/Soomvaar/blob/main/Tensorflow%20Pratice/Tensorflow_101.ipynb\" target=\"_parent\"><img src=\"https://colab.research.google.com/assets/colab-badge.svg\" alt=\"Open In Colab\"/></a>"
      ]
    },
    {
      "cell_type": "code",
      "metadata": {
        "id": "mVsaQfYG9VSu"
      },
      "source": [
        "import numpy as np\n",
        "import matplotlib.pyplot as plt\n",
        "import tensorflow as tf"
      ],
      "execution_count": 25,
      "outputs": []
    },
    {
      "cell_type": "code",
      "metadata": {
        "id": "0ubWvdOCANb_"
      },
      "source": [
        "observations = 1000\n",
        "\n",
        "xs = np.random.uniform(low=-10, high=10, size=(observations,1))\n",
        "zs = np.random.uniform(-10, 10, (observations,1))\n",
        "\n",
        "generated_inputs = np.column_stack((xs,zs))\n",
        "\n",
        "noise = np.random.uniform(-1, 1, (observations,1))\n",
        "\n",
        "generated_targets = 2*xs - 3*zs + 5 + noise\n",
        "\n",
        "np.savez('TF_intro', inputs=generated_inputs, targets=generated_targets)"
      ],
      "execution_count": 26,
      "outputs": []
    },
    {
      "cell_type": "code",
      "metadata": {
        "id": "6UtStworAQKz"
      },
      "source": [
        "training_data = np.load('TF_intro.npz')"
      ],
      "execution_count": 27,
      "outputs": []
    },
    {
      "cell_type": "code",
      "metadata": {
        "colab": {
          "base_uri": "https://localhost:8080/"
        },
        "id": "7rq-Z0yPAUxK",
        "outputId": "77b2f690-4714-4c25-dc3c-aa7792515de5"
      },
      "source": [
        "input_size = 2\n",
        "output_size = 1\n",
        "\n",
        "model = tf.keras.Sequential([\n",
        "                            tf.keras.layers.Dense(output_size,\n",
        "                                                 kernel_initializer=tf.random_uniform_initializer(minval=-0.1, maxval=0.1),\n",
        "                                                 bias_initializer=tf.random_uniform_initializer(minval=-0.1, maxval=0.1)\n",
        "                                                 )\n",
        "                            ])\n",
        "\n",
        "custom_optimizer = tf.keras.optimizers.SGD(learning_rate=0.02)\n",
        "\n",
        "model.compile(optimizer=custom_optimizer, loss='mean_squared_error')\n",
        "\n",
        "model.fit(training_data['inputs'], training_data['targets'], epochs=100, verbose=2)"
      ],
      "execution_count": 28,
      "outputs": [
        {
          "output_type": "stream",
          "text": [
            "Epoch 1/100\n",
            "32/32 - 0s - loss: 24.5115\n",
            "Epoch 2/100\n",
            "32/32 - 0s - loss: 1.1483\n",
            "Epoch 3/100\n",
            "32/32 - 0s - loss: 0.4479\n",
            "Epoch 4/100\n",
            "32/32 - 0s - loss: 0.3873\n",
            "Epoch 5/100\n",
            "32/32 - 0s - loss: 0.3930\n",
            "Epoch 6/100\n",
            "32/32 - 0s - loss: 0.3524\n",
            "Epoch 7/100\n",
            "32/32 - 0s - loss: 0.3709\n",
            "Epoch 8/100\n",
            "32/32 - 0s - loss: 0.3729\n",
            "Epoch 9/100\n",
            "32/32 - 0s - loss: 0.3899\n",
            "Epoch 10/100\n",
            "32/32 - 0s - loss: 0.3897\n",
            "Epoch 11/100\n",
            "32/32 - 0s - loss: 0.3663\n",
            "Epoch 12/100\n",
            "32/32 - 0s - loss: 0.3669\n",
            "Epoch 13/100\n",
            "32/32 - 0s - loss: 0.3794\n",
            "Epoch 14/100\n",
            "32/32 - 0s - loss: 0.4080\n",
            "Epoch 15/100\n",
            "32/32 - 0s - loss: 0.3714\n",
            "Epoch 16/100\n",
            "32/32 - 0s - loss: 0.3968\n",
            "Epoch 17/100\n",
            "32/32 - 0s - loss: 0.3866\n",
            "Epoch 18/100\n",
            "32/32 - 0s - loss: 0.3657\n",
            "Epoch 19/100\n",
            "32/32 - 0s - loss: 0.3833\n",
            "Epoch 20/100\n",
            "32/32 - 0s - loss: 0.3887\n",
            "Epoch 21/100\n",
            "32/32 - 0s - loss: 0.3687\n",
            "Epoch 22/100\n",
            "32/32 - 0s - loss: 0.3767\n",
            "Epoch 23/100\n",
            "32/32 - 0s - loss: 0.3927\n",
            "Epoch 24/100\n",
            "32/32 - 0s - loss: 0.3800\n",
            "Epoch 25/100\n",
            "32/32 - 0s - loss: 0.3921\n",
            "Epoch 26/100\n",
            "32/32 - 0s - loss: 0.4182\n",
            "Epoch 27/100\n",
            "32/32 - 0s - loss: 0.3822\n",
            "Epoch 28/100\n",
            "32/32 - 0s - loss: 0.3981\n",
            "Epoch 29/100\n",
            "32/32 - 0s - loss: 0.3899\n",
            "Epoch 30/100\n",
            "32/32 - 0s - loss: 0.3739\n",
            "Epoch 31/100\n",
            "32/32 - 0s - loss: 0.3803\n",
            "Epoch 32/100\n",
            "32/32 - 0s - loss: 0.3598\n",
            "Epoch 33/100\n",
            "32/32 - 0s - loss: 0.3789\n",
            "Epoch 34/100\n",
            "32/32 - 0s - loss: 0.3635\n",
            "Epoch 35/100\n",
            "32/32 - 0s - loss: 0.3572\n",
            "Epoch 36/100\n",
            "32/32 - 0s - loss: 0.4027\n",
            "Epoch 37/100\n",
            "32/32 - 0s - loss: 0.4230\n",
            "Epoch 38/100\n",
            "32/32 - 0s - loss: 0.3696\n",
            "Epoch 39/100\n",
            "32/32 - 0s - loss: 0.3608\n",
            "Epoch 40/100\n",
            "32/32 - 0s - loss: 0.4015\n",
            "Epoch 41/100\n",
            "32/32 - 0s - loss: 0.3573\n",
            "Epoch 42/100\n",
            "32/32 - 0s - loss: 0.3785\n",
            "Epoch 43/100\n",
            "32/32 - 0s - loss: 0.3876\n",
            "Epoch 44/100\n",
            "32/32 - 0s - loss: 0.3804\n",
            "Epoch 45/100\n",
            "32/32 - 0s - loss: 0.3808\n",
            "Epoch 46/100\n",
            "32/32 - 0s - loss: 0.3801\n",
            "Epoch 47/100\n",
            "32/32 - 0s - loss: 0.3660\n",
            "Epoch 48/100\n",
            "32/32 - 0s - loss: 0.3621\n",
            "Epoch 49/100\n",
            "32/32 - 0s - loss: 0.3904\n",
            "Epoch 50/100\n",
            "32/32 - 0s - loss: 0.3905\n",
            "Epoch 51/100\n",
            "32/32 - 0s - loss: 0.4186\n",
            "Epoch 52/100\n",
            "32/32 - 0s - loss: 0.4352\n",
            "Epoch 53/100\n",
            "32/32 - 0s - loss: 0.3537\n",
            "Epoch 54/100\n",
            "32/32 - 0s - loss: 0.3860\n",
            "Epoch 55/100\n",
            "32/32 - 0s - loss: 0.3565\n",
            "Epoch 56/100\n",
            "32/32 - 0s - loss: 0.3675\n",
            "Epoch 57/100\n",
            "32/32 - 0s - loss: 0.4225\n",
            "Epoch 58/100\n",
            "32/32 - 0s - loss: 0.3746\n",
            "Epoch 59/100\n",
            "32/32 - 0s - loss: 0.3710\n",
            "Epoch 60/100\n",
            "32/32 - 0s - loss: 0.3597\n",
            "Epoch 61/100\n",
            "32/32 - 0s - loss: 0.3658\n",
            "Epoch 62/100\n",
            "32/32 - 0s - loss: 0.3578\n",
            "Epoch 63/100\n",
            "32/32 - 0s - loss: 0.3694\n",
            "Epoch 64/100\n",
            "32/32 - 0s - loss: 0.3578\n",
            "Epoch 65/100\n",
            "32/32 - 0s - loss: 0.3962\n",
            "Epoch 66/100\n",
            "32/32 - 0s - loss: 0.3884\n",
            "Epoch 67/100\n",
            "32/32 - 0s - loss: 0.3675\n",
            "Epoch 68/100\n",
            "32/32 - 0s - loss: 0.3836\n",
            "Epoch 69/100\n",
            "32/32 - 0s - loss: 0.4014\n",
            "Epoch 70/100\n",
            "32/32 - 0s - loss: 0.3740\n",
            "Epoch 71/100\n",
            "32/32 - 0s - loss: 0.3553\n",
            "Epoch 72/100\n",
            "32/32 - 0s - loss: 0.3714\n",
            "Epoch 73/100\n",
            "32/32 - 0s - loss: 0.3645\n",
            "Epoch 74/100\n",
            "32/32 - 0s - loss: 0.3835\n",
            "Epoch 75/100\n",
            "32/32 - 0s - loss: 0.3779\n",
            "Epoch 76/100\n",
            "32/32 - 0s - loss: 0.3884\n",
            "Epoch 77/100\n",
            "32/32 - 0s - loss: 0.3836\n",
            "Epoch 78/100\n",
            "32/32 - 0s - loss: 0.3579\n",
            "Epoch 79/100\n",
            "32/32 - 0s - loss: 0.3966\n",
            "Epoch 80/100\n",
            "32/32 - 0s - loss: 0.3697\n",
            "Epoch 81/100\n",
            "32/32 - 0s - loss: 0.3722\n",
            "Epoch 82/100\n",
            "32/32 - 0s - loss: 0.3673\n",
            "Epoch 83/100\n",
            "32/32 - 0s - loss: 0.3741\n",
            "Epoch 84/100\n",
            "32/32 - 0s - loss: 0.4055\n",
            "Epoch 85/100\n",
            "32/32 - 0s - loss: 0.3843\n",
            "Epoch 86/100\n",
            "32/32 - 0s - loss: 0.3699\n",
            "Epoch 87/100\n",
            "32/32 - 0s - loss: 0.3621\n",
            "Epoch 88/100\n",
            "32/32 - 0s - loss: 0.3564\n",
            "Epoch 89/100\n",
            "32/32 - 0s - loss: 0.4234\n",
            "Epoch 90/100\n",
            "32/32 - 0s - loss: 0.3605\n",
            "Epoch 91/100\n",
            "32/32 - 0s - loss: 0.3697\n",
            "Epoch 92/100\n",
            "32/32 - 0s - loss: 0.3656\n",
            "Epoch 93/100\n",
            "32/32 - 0s - loss: 0.3864\n",
            "Epoch 94/100\n",
            "32/32 - 0s - loss: 0.3981\n",
            "Epoch 95/100\n",
            "32/32 - 0s - loss: 0.3593\n",
            "Epoch 96/100\n",
            "32/32 - 0s - loss: 0.3973\n",
            "Epoch 97/100\n",
            "32/32 - 0s - loss: 0.3779\n",
            "Epoch 98/100\n",
            "32/32 - 0s - loss: 0.3944\n",
            "Epoch 99/100\n",
            "32/32 - 0s - loss: 0.3772\n",
            "Epoch 100/100\n",
            "32/32 - 0s - loss: 0.3928\n"
          ],
          "name": "stdout"
        },
        {
          "output_type": "execute_result",
          "data": {
            "text/plain": [
              "<tensorflow.python.keras.callbacks.History at 0x7f5d5a865ed0>"
            ]
          },
          "metadata": {
            "tags": []
          },
          "execution_count": 28
        }
      ]
    },
    {
      "cell_type": "code",
      "metadata": {
        "colab": {
          "base_uri": "https://localhost:8080/"
        },
        "id": "l5v6zZ9oAsh7",
        "outputId": "2e27c837-739d-406a-a797-570646f5be3a"
      },
      "source": [
        "model.layers[0].get_weights()"
      ],
      "execution_count": 29,
      "outputs": [
        {
          "output_type": "execute_result",
          "data": {
            "text/plain": [
              "[array([[ 2.0220542],\n",
              "        [-3.0275977]], dtype=float32), array([4.9697137], dtype=float32)]"
            ]
          },
          "metadata": {
            "tags": []
          },
          "execution_count": 29
        }
      ]
    },
    {
      "cell_type": "code",
      "metadata": {
        "id": "MvufakNJA_YJ"
      },
      "source": [
        ""
      ],
      "execution_count": 29,
      "outputs": []
    },
    {
      "cell_type": "code",
      "metadata": {
        "colab": {
          "base_uri": "https://localhost:8080/"
        },
        "id": "dCI3ymnRA3Cr",
        "outputId": "77bf438a-039a-4851-f802-936d928fc73d"
      },
      "source": [
        "weights = model.layers[0].get_weights()[0]\n",
        "weights"
      ],
      "execution_count": 30,
      "outputs": [
        {
          "output_type": "execute_result",
          "data": {
            "text/plain": [
              "array([[ 2.0220542],\n",
              "       [-3.0275977]], dtype=float32)"
            ]
          },
          "metadata": {
            "tags": []
          },
          "execution_count": 30
        }
      ]
    },
    {
      "cell_type": "code",
      "metadata": {
        "colab": {
          "base_uri": "https://localhost:8080/"
        },
        "id": "ktOSI5neBDJI",
        "outputId": "d066d76a-5c83-4a70-9f11-14e97d14b9c7"
      },
      "source": [
        "bias = model.layers[0].get_weights()[1]\n",
        "bias\n"
      ],
      "execution_count": 31,
      "outputs": [
        {
          "output_type": "execute_result",
          "data": {
            "text/plain": [
              "array([4.9697137], dtype=float32)"
            ]
          },
          "metadata": {
            "tags": []
          },
          "execution_count": 31
        }
      ]
    },
    {
      "cell_type": "code",
      "metadata": {
        "colab": {
          "base_uri": "https://localhost:8080/",
          "height": 279
        },
        "id": "LWvFPz6BBJFL",
        "outputId": "80ada94a-5d8a-4d64-ef52-bb37a74206ea"
      },
      "source": [
        "plt.plot(np.squeeze(model.predict_on_batch(training_data['inputs'])), np.squeeze(training_data['targets']))\n",
        "plt.xlabel('outputs')\n",
        "plt.ylabel('targets')\n",
        "plt.show()"
      ],
      "execution_count": 32,
      "outputs": [
        {
          "output_type": "display_data",
          "data": {
            "image/png": "[encoded data removed]",
            "text/plain": [
              "<Figure size 432x288 with 1 Axes>"
            ]
          },
          "metadata": {
            "tags": [],
            "needs_background": "light"
          }
        }
      ]
    }
  ]
}